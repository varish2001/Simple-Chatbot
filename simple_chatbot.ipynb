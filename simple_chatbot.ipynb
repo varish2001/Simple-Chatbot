{
  "nbformat": 4,
  "nbformat_minor": 0,
  "metadata": {
    "colab": {
      "provenance": [],
      "authorship_tag": "ABX9TyOfrS1qJgdos61whWHe742n",
      "include_colab_link": true
    },
    "kernelspec": {
      "name": "python3",
      "display_name": "Python 3"
    },
    "language_info": {
      "name": "python"
    }
  },
  "cells": [
    {
      "cell_type": "markdown",
      "metadata": {
        "id": "view-in-github",
        "colab_type": "text"
      },
      "source": [
        "<a href=\"https://colab.research.google.com/github/varish2001/Simple-Chatbot/blob/main/simple_chatbot.ipynb\" target=\"_parent\"><img src=\"https://colab.research.google.com/assets/colab-badge.svg\" alt=\"Open In Colab\"/></a>"
      ]
    },
    {
      "cell_type": "code",
      "source": [
        "# Simple Chatbot in Python\n",
        "# Works in Google Colab or VS Code\n",
        "# No API key required\n",
        "\n",
        "print(\"🤖 ChatBot: Hello! I’m your friendly chatbot.\")\n",
        "print(\"Type 'exit' anytime to end the chat.\\n\")\n",
        "\n",
        "while True:\n",
        "    user_input = input(\"You: \").lower()  # Take user input and convert to lowercase\n",
        "\n",
        "    if user_input in ['hi', 'hello', 'hey']:\n",
        "        print(\"🤖 ChatBot: Hello there! How are you today?\")\n",
        "\n",
        "    elif \"how are you\" in user_input:\n",
        "        print(\"🤖 ChatBot: I’m just a program, but I’m feeling awesome! 😄\")\n",
        "\n",
        "    elif \"your name\" in user_input:\n",
        "        print(\"🤖 ChatBot: I’m ChatBot — your virtual assistant!\")\n",
        "\n",
        "    elif \"help\" in user_input:\n",
        "        print(\"🤖 ChatBot: Sure! You can ask me about weather, jokes, or just say hi.\")\n",
        "\n",
        "    elif \"joke\" in user_input:\n",
        "        print(\"😂 ChatBot: Why did the computer go to therapy? Because it had a hard drive!\")\n",
        "\n",
        "    elif user_input in [\"bye\", \"goodbye\", \"exit\"]:\n",
        "        print(\"🤖 ChatBot: Goodbye! Have a great day! 👋\")\n",
        "        break\n",
        "\n",
        "    else:\n",
        "        print(\"🤖 ChatBot: Hmm... I’m not sure how to respond to that. Try saying 'help'.\")\n",
        "\n"
      ],
      "metadata": {
        "colab": {
          "base_uri": "https://localhost:8080/"
        },
        "id": "pKl1UthUxELn",
        "outputId": "0e749291-c5e0-4003-b082-8ad6cc176a92"
      },
      "execution_count": null,
      "outputs": [
        {
          "output_type": "stream",
          "name": "stdout",
          "text": [
            "🤖 ChatBot: Hello! I’m your friendly chatbot.\n",
            "Type 'exit' anytime to end the chat.\n",
            "\n",
            "You: hi\n",
            "🤖 ChatBot: Hello there! How are you today?\n",
            "You: your name\n",
            "🤖 ChatBot: I’m ChatBot — your virtual assistant!\n",
            "You: joke\n",
            "😂 ChatBot: Why did the computer go to therapy? Because it had a hard drive!\n",
            "You: exit\n",
            "🤖 ChatBot: Goodbye! Have a great day! 👋\n"
          ]
        }
      ]
    }
  ]
}